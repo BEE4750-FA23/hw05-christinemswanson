{
  "cells": [
    {
      "cell_type": "markdown",
      "id": "d150bc21-aac7-4d00-8136-259a754e9eed",
      "metadata": {},
      "source": [
        "# BEE 4750 Homework 5: Solid Waste Disposal\n",
        "\n",
        "**Name**: Christine Swanson\n",
        "\n",
        "**ID**: cms549\n",
        "\n",
        "> **Due Date**\n",
        ">\n",
        "> Friday, 11/10/23, 9:00pm\n",
        "\n",
        "## Overview"
      ]
    },
    {
      "cell_type": "markdown",
      "id": "0f5144ff-a99c-43e1-b180-aa978abf2c9b",
      "metadata": {},
      "source": [
        "### Instructions\n",
        "\n",
        "-   In Problem 1, you will formulate, solve, and analyze a standard\n",
        "    generating capacity expansion problem.\n",
        "-   In Problem 2, you will add a CO<sub>2</sub> constraint to the\n",
        "    capacity expansion problem and identify changes in the resulting\n",
        "    solution."
      ]
    },
    {
      "cell_type": "markdown",
      "id": "6b434ddc-db6e-4b87-bb3b-fbb64d3a8bbe",
      "metadata": {},
      "source": [
        "### Load Environment\n",
        "\n",
        "The following code loads the environment and makes sure all needed\n",
        "packages are installed. This should be at the start of most Julia\n",
        "scripts."
      ]
    },
    {
      "cell_type": "code",
      "execution_count": 31,
      "id": "0b03182b",
      "metadata": {},
      "outputs": [
        {
          "name": "stderr",
          "output_type": "stream",
          "text": [
            "\u001b[32m\u001b[1m  Activating\u001b[22m\u001b[39m project at `c:\\Users\\chris\\Box\\classwork\\2023_Fall\\BEE5750\\hw\\hw05-christinemswanson`\n"
          ]
        }
      ],
      "source": [
        "import Pkg\n",
        "Pkg.activate(@__DIR__)\n",
        "Pkg.instantiate()"
      ]
    },
    {
      "cell_type": "code",
      "execution_count": 32,
      "id": "613dfbf5",
      "metadata": {},
      "outputs": [],
      "source": [
        "using JuMP\n",
        "using HiGHS\n",
        "using DataFrames\n",
        "using GraphRecipes\n",
        "using Plots\n",
        "using Measures\n",
        "using MarkdownTables"
      ]
    },
    {
      "cell_type": "markdown",
      "id": "f01fc8ec-5c50-4f09-ae59-42dbf09a2fd7",
      "metadata": {},
      "source": [
        "## Background\n",
        "\n",
        "Three cities are developing a coordinated municipal solid waste (MSW)\n",
        "disposal plan. Three disposal alternatives are being considered: a\n",
        "landfill (LF), a materials recycling facility (MRF), and a\n",
        "waste-to-energy facility (WTE). The capacities of these facilities and\n",
        "the fees for operation and disposal are provided in the table below.\n",
        "\n",
        "|    **Disposal Facility**     | **Capacity** (Mg/d) | **Fixed cost** (\\$/d) | **Tipping Fee** (\\$/Mg) | **Recycling Cost** (\\$/Mg) |\n",
        "|:-------------:|:-------------:|:-------------:|:----------:|:--------------:|\n",
        "|           Landfill           |         200         |         2000          |            50            |                            |\n",
        "| Materials Recycling Facility |         350         |         1500          |            7             |    40 (per Mg recycled)    |\n",
        "|   Waste-to-Energy Facility   |         210         |         2500          |            60            |                            |\n",
        "\n",
        "Transportation costs are \\$1.5/Mg-km, and the relative distances between\n",
        "the cities and facilities are provided in the table below.\n",
        "\n",
        "| **City/Facility** | **Landfill (km)** | **MRF (km)** | **WTE (km)** |\n",
        "|:-----------------:|:-----------------:|:------------:|:------------:|\n",
        "|         1         |         5         |      30      |      15      |\n",
        "|         2         |        15         |      25      |      10      |\n",
        "|         3         |        13         |      45      |      20      |\n",
        "|        LF         |        \\-         |      32      |      18      |\n",
        "|        MRF        |        32         |      \\-      |      15      |\n",
        "|        WTE        |        18         |      15      |      \\-      |\n",
        "\n",
        "The fixed costs associated with the disposal options are incurred only\n",
        "if the particular disposal option is implemented. The three cities\n",
        "produce 100, 90, and 120 Mg/day of solid waste, respectively, with the\n",
        "composition provided in the table below.\n",
        "\n",
        "|   **Component**   | **% of total mass** | **Combustion ash** (%) | **MRF Recycling rate** (%) |\n",
        "|:---------------------:|:--------------:|:---------------:|:---------------:|\n",
        "|    Food Wastes    |         15          |           8            |             0              |\n",
        "| Paper & Cardboard |         40          |           7            |             55             |\n",
        "|     Plastics      |          5          |           5            |             15             |\n",
        "|     Textiles      |          3          |           10           |             10             |\n",
        "|  Rubber, Leather  |          2          |           15           |             0              |\n",
        "|       Wood        |          5          |           2            |             30             |\n",
        "|    Yard Wastes    |         18          |           2            |             40             |\n",
        "|       Glass       |          4          |          100           |             60             |\n",
        "|      Ferrous      |          2          |          100           |             75             |\n",
        "|     Aluminum      |          2          |          100           |             80             |\n",
        "|    Other Metal    |          1          |          100           |             50             |\n",
        "|   Miscellaneous   |          3          |           70           |             0              |\n",
        "\n",
        "The information in the above table will help you determine the overall\n",
        "recycling and ash fractions. Note that the recycling residuals, which\n",
        "may be sent to either landfill or the WTE, have different ash content\n",
        "than the ash content of the original MSW. You will need to determine\n",
        "these fractions to construct your mass balance constraints.\n",
        "\n",
        "**Reminder**: Use `round(x; digits=n)` to report values to the\n",
        "appropriate precision!"
      ]
    },
    {
      "cell_type": "markdown",
      "id": "fdcc0b96-9176-4766-aed7-278ca003f7b6",
      "metadata": {},
      "source": [
        "## Problems (Total: 40 Points)"
      ]
    },
    {
      "cell_type": "markdown",
      "id": "ba969f6a-18b8-462c-980c-95b5ea6c6b92",
      "metadata": {},
      "source": [
        "### Problem 1 (22 points)\n",
        "\n",
        "In this problem, you will develop an optimal disposal plan for the two\n",
        "cities."
      ]
    },
    {
      "cell_type": "markdown",
      "id": "b7bb2071-887b-4709-b241-fd83ca521817",
      "metadata": {},
      "source": [
        "#### Problem 1.1 (3 points)\n",
        "\n",
        "Based on the information above, calculate the overall recycling and ash\n",
        "fractions for the waste produced by each city."
      ]
    },
    {
      "cell_type": "markdown",
      "id": "7210c397",
      "metadata": {},
      "source": [
        "**Overall recycling fraction:**\n",
        "\n",
        "Recycling fraction = (0.55 paper and cardboard * 0.4) + (0.15 plastics * 0.05) + (0.10 textiles * 0.03) + (0.30 wood * 0.05) + (0.40 yard waste * 0.18) + (0.60 glass * 0.04) + (0.75 ferrous * 0.02) + (0.80 aluminum * 0.02) + (0.50 other metal * 0.01)\n",
        "\n",
        "Recycling fraction = (0.22) + (0.0075) + (0.003) + (0.015) + (0.072) + (0.024) + (0.015) + (0.016) + (0.005)\n",
        "\n",
        "Recycling fraction = 0.3775 = **38%**\n",
        "\n",
        "**Overall ash fraction:**\n",
        "\n",
        "Ash fraction = (0.08 food wastes * 0.15) + (0.07 paper and cardboard * 0.40) + (0.05 plastics * 0.05) + (0.10 textiles * 0.03) + (0.15 rubber and leather * 0.02) + (0.02 wood * 0.05) + (0.02 yard wastes * 0.18) + (1 glass * 0.04) + (1 ferrous * 0.02) + (1 aluminum * 0.02) + (1 other metal * 0.01) + (0.70 miscellaneous * 0.03)\n",
        "\n",
        "Ash fraction = (0.012) + (0.028) + (0.0025) + (0.003) + (0.003) + (0.001) + (0.0036) + (0.04) + (0.02) + (0.02) + (0.01) + (0.021)\n",
        "\n",
        "Ash fraction = 0.1641 = **16%**"
      ]
    },
    {
      "cell_type": "markdown",
      "id": "e649dc0e-ac57-4735-b145-f58917ce4cc5",
      "metadata": {},
      "source": [
        "#### Problem 1.2 (2 points)\n",
        "\n",
        "What are the decision variables for your optimization problem? Provide\n",
        "notation and variable meaning."
      ]
    },
    {
      "cell_type": "markdown",
      "id": "e7424dda",
      "metadata": {},
      "source": [
        "**Decision variables:**\n",
        "\n",
        "$W_{i,j}$: Waste transported from city i to disposal j. Units in Mg/day\n",
        "\n",
        "$R_{k,j}$: Residual waste transported from disposal k to disposal j. Units in Mg/day. \n",
        "\n",
        "$Y_{j}$: Operational status (on/off) of disposal j. Binary variable; unitless. "
      ]
    },
    {
      "cell_type": "markdown",
      "id": "692b76d0-5e3c-4123-a2f8-cc244fba0dc2",
      "metadata": {},
      "source": [
        "#### Problem 1.3 (3 points)\n",
        "\n",
        "Formulate the objective function. Make sure to include any needed\n",
        "derivations or justifications for your equation(s)."
      ]
    },
    {
      "cell_type": "markdown",
      "id": "18bd3462",
      "metadata": {},
      "source": [
        "**Response:** Our goal in this problem is to minimize our total costs. We need to consider transportation and disposal costs; the disposal costs include both fixed and varaible costs. To derive the transportation costs, we can consider: \n",
        "\n",
        "$a_{i,j}$: Cost of transporting waste form source ${i}$ to disposal ${j}$. Units in $/Mg-km. \n",
        "\n",
        "$l_{i,j}$: Distance between source ${i}$ and disposal ${j}$. Units in km. \n",
        "\n",
        "Putting this all together, we get: \n",
        "\n",
        "$$\\begin{equation}\n",
        "\\begin{aligned}\n",
        "& \\text{Transportation Costs} = \\displaystyle\\sum_{i∈I, j∈J, k∈K} (a_{i,j})(l_{i,j})(W_{i,j})(R_{k,j})\n",
        "\\\\\n",
        "\n",
        "\\end{aligned} \n",
        "\\end{equation}$$\n",
        "\n",
        "To derive the disposal costs, we can consider: \n",
        "\n",
        "$c_{j}$: Fixed costs of operating disposal ${j}$. Units in $/day.\n",
        "\n",
        "$b_{j}$: Variable cost of disposing waste at disposal ${j}$. Units $/Mg. \n",
        "\n",
        "Putting this all together, we get: \n",
        "\n",
        "$$\\begin{equation}\n",
        "\\begin{aligned}\n",
        "& \\text{Disposal Costs} = \\displaystyle\\sum_{j∈J} [c_{j} + b_{j} + \\displaystyle\\sum_{i∈I, k∈K} (W_{i,j})(R_{k,j})]\n",
        "\\\\\n",
        "\n",
        "\\end{aligned} \n",
        "\\end{equation}$$\n",
        "\n",
        "**So, the objective function is:**\n",
        "\n",
        "$$\\begin{equation}\n",
        "\\begin{aligned}\n",
        "& \\min_{W_{i,j}, Y_{j}, R_{k,j}} & Z = \\displaystyle\\sum_{i∈I, j∈J, k∈K} (a_{i,j})(l_{i,j})(W_{i,j})(R_{k,j}) +\n",
        "\\displaystyle\\sum_{j∈J}[(c_{j})(Y_{j}) + \\displaystyle\\sum_{i∈I, k∈K} (b_{j})(W_{i,j})(R_{k,j})]\n",
        "\\\\\n",
        "\n",
        "\\end{aligned} \n",
        "\\end{equation}$$\n",
        "\n",
        "**But, we can simplify the objective function by combining the transportation and disposal costs. Let LF = 1, MRF = 2, and WTE = 3 for the subscripts of the variables below. We obtain:**\n",
        "\n",
        "$$\\begin{equation}\n",
        "\\begin{aligned}\n",
        "\\min_{W,R,Y} & Z = 57.5W_{11} + 67.2W_{12} + 82.5W_{13} + 72.5W_{21} + 59.7W_{22} + 75W_{23} + 69.5W_{31} + 89.7W_{32} + 90W_{33} + 98R_{21} + \n",
        "\\\\ &\n",
        "77R_{31} + 82.5R_{23} + 2500Y_{3} + 1500Y_{2} + 2000Y_{1}\n",
        "\\\\\n",
        "\n",
        "\\end{aligned} \n",
        "\\end{equation}$$"
      ]
    },
    {
      "cell_type": "markdown",
      "id": "b1ac06fc-3f24-4ce0-86b2-9910f62d235f",
      "metadata": {},
      "source": [
        "#### Problem 1.4 (4 points)\n",
        "\n",
        "Derive all relevant constraints. Make sure to include any needed\n",
        "justifications or derivations."
      ]
    },
    {
      "cell_type": "markdown",
      "id": "76c980c3",
      "metadata": {},
      "source": [
        "**Constraints:**\n",
        "\n",
        "**Mass balance constraints (city):**\n",
        "\n",
        "*City 1:* $W_{11}$ + $W_{12}$ + $W_{13}$ = 100 (Mg/day)\n",
        "\n",
        "*City 2:* $W_{21}$ + $W_{22}$ + $W_{23}$ = 90 (Mg/day)\n",
        "\n",
        "*City 3:* $W_{31}$ + $W_{32}$ + $W_{33}$ = 120 (Mg/day)\n",
        "\n",
        "**Mass balance constraints (residuals):**\n",
        "\n",
        "$R_{23}$ + $R_{21}$ = $0.62$($W_{12}$ + $W_{22}$ + $W_{32}$) (MRF)\n",
        "\n",
        "$R_{31}$ = $0.16$($W_{13}$ + $W_{23}$ + $W_{33}$ + $R_{23}$) (WTE)\n",
        "\n",
        "**Disposal limit constraints:**\n",
        "\n",
        "WTE: $W_{13}$ + $W_{23}$ + $W_{33}$ + $R_{23}$ $\\leq$ $210$ (Mg/day)\n",
        "\n",
        "MRF: $W_{12}$ + $W_{22}$ + $W_{32}$ $\\leq$ $350$ (Mg/day)\n",
        "\n",
        "LF: $W_{11}$ + $W_{21}$ + $W_{31}$ + $R_{21}$ + $R_{31}$ $\\leq$ $200$ (Mg/day)\n",
        "\n",
        "**Commitment and Non-negativity constraints:**\n",
        "\n",
        "$Y_{1} = 1$ (landfill always on)\n",
        "\n",
        "$Y_{2}$ = {$0$ if $W_{12}$ + $W_{22}$ + $W_{32}$ = $0$; 1 else} (MRF)\n",
        "\n",
        "$Y_{3}$ = {$0$ if $W_{13}$ + $W_{23}$ + $W_{33}$ + $R_{23}$ = $0$; 1 else} (WTE)\n",
        "\n",
        "$W_{i,j}$,$R_{k,j}$ $\\geq$ $0$"
      ]
    },
    {
      "cell_type": "markdown",
      "id": "6c54e20e",
      "metadata": {},
      "source": [
        "Note for the residual mass balance constraints, I needed to include the overall recycling and ash fractions that I found in problem 1.1. I was able to devise these constraints based off of my diagram for the system, which is shown in problem 1.7. "
      ]
    },
    {
      "cell_type": "markdown",
      "id": "311b2145-551b-4c4c-99aa-e466b170c470",
      "metadata": {},
      "source": [
        "#### Problem 1.5 (3 points)\n",
        "\n",
        "Implement your optimization problem in `JuMP`."
      ]
    },
    {
      "cell_type": "code",
      "execution_count": 40,
      "id": "87d52e27",
      "metadata": {},
      "outputs": [
        {
          "name": "stdout",
          "output_type": "stream",
          "text": [
            "Min 57.5 W[1,1] + 67.2 W[1,2] + 82.5 W[1,3] + 72.5 W[2,1] + 59.7 W[2,2] + 75 W[2,3] + 69.5 W[3,1] + 89.7 W[3,2] + 90 W[3,3] + 98 R[1,2] + 77 R[2,3] + 82.5 R[3,3] + 2000 Y[1] + 1500 Y[2] + 2500 Y[3]\n",
            "Subject to\n",
            " city1 : W[1,1] + W[1,2] + W[1,3] == 100\n",
            " city2 : W[2,1] + W[2,2] + W[2,3] == 90\n",
            " city3 : W[3,1] + W[3,2] + W[3,3] == 120\n",
            " MRFresidual : -0.62 W[1,2] - 0.62 W[2,2] - 0.62 W[3,2] + R[2,1] + R[2,3] == 0\n",
            " WTEresidual : -0.16 W[1,3] - 0.16 W[2,3] - 0.16 W[3,3] + R[3,1] - 0.16 R[2,3] == 0\n",
            " LFcommit : Y[1] == 1\n",
            " MRFcommit : -W[1,2] - W[2,2] - W[3,2] + 1000 Y[2] >= 0\n",
            " WTEcommit : -W[1,3] - W[2,3] - W[3,3] - R[2,3] + 1000 Y[3] >= 0\n",
            " WTEwaste : W[1,3] + W[2,3] + W[3,3] + R[2,3] <= 210\n",
            " MRFwaste : W[1,2] + W[2,2] + W[3,2] + R[2,3] <= 350\n",
            " Lfwaste : W[1,1] + W[2,1] + W[3,1] + R[2,1] + R[3,1] <= 200\n",
            " W[1,1] >= 0\n",
            " W[2,1] >= 0\n",
            " W[3,1] >= 0\n",
            " W[1,2] >= 0\n",
            " W[2,2] >= 0\n",
            " W[3,2] >= 0\n",
            " W[1,3] >= 0\n",
            " W[2,3] >= 0\n",
            " W[3,3] >= 0\n",
            " R[1,1] >= 0\n",
            " R[2,1] >= 0\n",
            " R[3,1] >= 0\n",
            " R[1,2] >= 0\n",
            " R[2,2] >= 0\n",
            " R[3,2] >= 0\n",
            " R[1,3] >= 0\n",
            " R[2,3] >= 0\n",
            " R[3,3] >= 0\n",
            " Y[1] binary\n",
            " Y[2] binary\n",
            " Y[3] binary\n"
          ]
        }
      ],
      "source": [
        "# Step 1: Initialize model with solver\n",
        "waste_model = Model(HiGHS.Optimizer)\n",
        "\n",
        "# Step 2.1: Define relevant variables\n",
        "I = 1:3 # 3 cities\n",
        "J = 1:3 # 3 disposals\n",
        "K = 1:3 # 3 disposals for residuals \n",
        "\n",
        "# Coefficients for the objective function\n",
        "c_W = [57.5 67.2 82.5; 72.5 59.7 75.0; 69.5 89.7 90.0]\n",
        "c_R = [0.0 98.0 0.0; 0.0 0.0 77.0; 0.0 0.0 82.5]\n",
        "fixed_costs = [2000, 1500, 2500]\n",
        "\n",
        "# Step 2.2: Define decision variables\n",
        "@variable(waste_model, W[i in I, j in J] >= 0) # waste transported from city i to disposal j\n",
        "@variable(waste_model, R[k in K, j in J] >= 0) # residual waste transported b/w disposals\n",
        "@variable(waste_model, Y[j in J], Bin) # operational status (binary)\n",
        "\n",
        "# Step 3: Define the objective function\n",
        "@objective(waste_model, Min, \n",
        "sum(c_W[i,j]*W[i,j] for i in I, j in J) + # W\n",
        "sum(c_R[k,j]*R[k,j] for k in K, j in J) + # R\n",
        "sum(fixed_costs[j]*Y[j] for j in J)\n",
        ")\n",
        "\n",
        "# Step 4: Define the constraints\n",
        "\n",
        "# city mass balance constraints\n",
        "@constraint(waste_model, city1, W[1,1] + W[1,2] + W[1,3] == 100) \n",
        "@constraint(waste_model, city2, W[2,1] + W[2,2] + W[2,3] == 90) \n",
        "@constraint(waste_model, city3, W[3,1] + W[3,2] + W[3,3] == 120) \n",
        "\n",
        "# residual mass balance constaints\n",
        "@constraint(waste_model, MRFresidual, R[2,3]+R[2,1] == 0.62(W[1,2] + W[2,2] + W[3,2]))\n",
        "@constraint(waste_model, WTEresidual, R[3,1] == 0.16(W[1,3] + W[2,3] + W[3,3] + R[2,3]))\n",
        "\n",
        "# disposal limit constraints\n",
        "@constraint(waste_model, WTEwaste, W[1,3] + W[2,3] + W[3,3] + R[2,3] <= 210)\n",
        "@constraint(waste_model, MRFwaste, W[1,2] + W[2,2] + W[3,2] + R[2,3] <= 350)\n",
        "@constraint(waste_model, Lfwaste, W[1,1] + W[2,1] + W[3,1] + R[2,1] + R[3,1] <= 200)\n",
        "\n",
        "# commitment \n",
        "M = 1000 # define M for Big-M reformulation \n",
        "@constraint(waste_model, LFcommit, Y[1] == 1) # landfill always on \n",
        "@constraint(waste_model, MRFcommit,  M*Y[2] >= W[1,2] + W[2,2] + W[3,2]) \n",
        "@constraint(waste_model, WTEcommit,  M*Y[3] >= W[1,3] + W[2,3] + W[3,3] + R[2,3])\n",
        "\n",
        "print(waste_model)"
      ]
    },
    {
      "cell_type": "markdown",
      "id": "f986c51d-2e74-496f-ac02-89e7455c9e4f",
      "metadata": {},
      "source": [
        "#### Problem 1.6 (2 points)\n",
        "\n",
        "Find the optimal solution. Report the optimal objective value."
      ]
    },
    {
      "cell_type": "markdown",
      "id": "cc175b60",
      "metadata": {},
      "source": [
        "**Response:** The optimal objective value is: **$25,942.37**.\n",
        "\n",
        "Moreover, we have: \n",
        "\n",
        "$Y_{1} = 1$, $Y_{2} = 1$, $Y_{3} = 0$\n",
        "\n",
        "$W_{1,2} = 100$ Mg/day, $W_{2,2} = 90$ Mg/day, $W_{3,1} = 20.5$ Mg/day, $W_{3,2} = 99.5$ Mg/day\n",
        "\n",
        "$R_{12,1} = 179.5$ Mg/day"
      ]
    },
    {
      "cell_type": "code",
      "execution_count": 41,
      "id": "48c46706",
      "metadata": {},
      "outputs": [
        {
          "name": "stdout",
          "output_type": "stream",
          "text": [
            "Running HiGHS 1.6.0: Copyright (c) 2023 HiGHS under MIT licence terms\n",
            "Presolving model\n",
            "10 rows, 14 cols, 41 nonzeros\n",
            "9 rows, 13 cols, 39 nonzeros\n",
            "\n",
            "Solving MIP model with:\n",
            "   9 rows\n",
            "   13 cols (2 binary, 0 integer, 0 implied int., 11 continuous)\n",
            "   39 nonzeros\n",
            "\n",
            "        Nodes      |    B&B Tree     |            Objective Bounds              |  Dynamic Constraints |       Work      \n",
            "     Proc. InQueue |  Leaves   Expl. | BestBound       BestSol              Gap |   Cuts   InLp Confl. | LpIters     Time\n",
            "\n",
            "         0       0         0   0.00%   2000            inf                  inf        0      0      0         0     0.0s\n",
            " S       0       0         0   0.00%   2000            27312.880952      92.68%        0      0      0         0     0.0s\n",
            "         0       0         0   0.00%   24197.578758    27312.880952      11.41%        0      0      0         6     0.0s\n",
            " S       0       0         0   0.00%   24197.578758    26179.52381        7.57%        7      1      0         6     0.0s\n",
            " H       0       0         0   0.00%   24988.762909    25942.368421       3.68%       17      2      1         8     0.0s\n",
            "\n",
            "Solving report\n",
            "  Status            Optimal\n",
            "  Primal bound      25942.3684211\n",
            "  Dual bound        25942.3684211\n",
            "  Gap               0% (tolerance: 0.01%)\n",
            "  Solution status   feasible\n",
            "                    25942.3684211 (objective)\n",
            "                    0 (bound viol.)\n",
            "                    0 (int. viol.)\n",
            "                    0 (row viol.)\n",
            "  Timing            0.01 (total)\n",
            "                    0.00 (presolve)\n",
            "                    0.00 (postsolve)\n",
            "  Nodes             1\n",
            "  LP iterations     12 (total)\n",
            "                    0 (strong br.)\n",
            "                    2 (separation)\n",
            "                    4 (heuristics)\n"
          ]
        }
      ],
      "source": [
        "# Solve the MILP\n",
        "optimize!(waste_model)"
      ]
    },
    {
      "cell_type": "code",
      "execution_count": 42,
      "id": "f2bb9d85",
      "metadata": {},
      "outputs": [
        {
          "name": "stdout",
          "output_type": "stream",
          "text": [
            "Optimal Waste Transport:\n",
            "2-dimensional DenseAxisArray{Float64,2,...} with index sets:\n",
            "    Dimension 1, 1:3\n",
            "    Dimension 2, 1:3\n",
            "And data, a 3×3 Matrix{Float64}:\n",
            " -0.0                100.0               0.0\n",
            "  0.0                 90.0              -0.0\n",
            " 20.526315789473703   99.4736842105263  -0.0\n",
            "Optimal Residual Waste Transport:\n",
            "2-dimensional DenseAxisArray{Float64,2,...} with index sets:\n",
            "    Dimension 1, 1:3\n",
            "    Dimension 2, 1:3\n",
            "And data, a 3×3 Matrix{Float64}:\n",
            "   0.0              0.0  0.0\n",
            " 179.4736842105263  0.0  0.0\n",
            "   0.0              0.0  0.0\n",
            "Facility Operational Status:\n",
            "1-dimensional DenseAxisArray{Float64,1,...} with index sets:\n",
            "    Dimension 1, 1:3\n",
            "And data, a 3-element Vector{Float64}:\n",
            " 1.0\n",
            " 1.0\n",
            " 0.0\n"
          ]
        }
      ],
      "source": [
        "# Check the status of the optimization\n",
        "status = termination_status(waste_model)\n",
        "if status == MOI.OPTIMAL\n",
        "    # Get the optimal solution values\n",
        "    optimal_W = value.(W)\n",
        "    optimal_R = value.(R)\n",
        "    optimal_Y = value.(Y)\n",
        "\n",
        "    # Print the results\n",
        "    println(\"Optimal Waste Transport:\\n\", optimal_W)\n",
        "    println(\"Optimal Residual Waste Transport:\\n\", optimal_R)\n",
        "    println(\"Facility Operational Status:\\n\", optimal_Y)\n",
        "else\n",
        "    println(\"No optimal solution found. Status: \", status)\n",
        "end"
      ]
    },
    {
      "cell_type": "markdown",
      "id": "f577fd2d-e5de-406b-9f86-ec957976e3e0",
      "metadata": {},
      "source": [
        "#### Problem 1.7 (5 points)\n",
        "\n",
        "Draw a diagram showing the flows of waste between the cities and the\n",
        "facilities. Which facilities (if any) will not be used? Does this\n",
        "solution make sense?"
      ]
    },
    {
      "cell_type": "markdown",
      "id": "504cf539",
      "metadata": {},
      "source": [
        "**Response:** We should operate the Landfill (LF) and the Materials-Recycling Facility (MRF), based on my results from problem 1.6 (The resulting Y vector is [1,1,0]). So, we will *not* be using the Waste-to-Energy facility. My diagram of the system is shown below: "
      ]
    },
    {
      "cell_type": "markdown",
      "id": "d648850f-68e5-4b26-a097-3ef8b4a4ec0e",
      "metadata": {},
      "source": [
        "### Problem 2 (18 points)\n",
        "\n",
        "It is projected that in the near future the state will introduce a\n",
        "carbon tax that will increase the cost for transportation and for\n",
        "disposal by incineration. It is estimated that the additional costs will\n",
        "be:\n",
        "\n",
        "-   tipping fee for the WTE facility will increase to\\$75/Mg; and\n",
        "-   transportation costs will increase to \\$2/Mg-km.\n",
        "\n",
        "In this context, the cities are considering adding another landfill and\n",
        "want to know if this would be cost-effective compared to using the\n",
        "current facilities with the carbon tax. This landfill would have a\n",
        "maximum capacity of 100 Mg/day and would be located with the following\n",
        "distances from the existing sites (excluding LF1):\n",
        "\n",
        "| **City/Facility** | **Distance to LF2 (km)** |\n",
        "|:-----------------:|:------------------------:|\n",
        "|         1         |            45            |\n",
        "|         2         |            35            |\n",
        "|         3         |            15            |\n",
        "|        MRF        |            35            |\n",
        "|        WTE        |            50            |\n",
        "\n",
        "The fixed cost of operating this facility would be the same as the first\n",
        "landfill, but the tipping cost would be increased to \\$60/Mg-day."
      ]
    },
    {
      "cell_type": "markdown",
      "id": "100f8010-51df-472b-92b8-c3b26b338fc7",
      "metadata": {},
      "source": [
        "#### Problem 2.1 (5 points)\n",
        "\n",
        "What changes are needed to your optimization program from Problem 1 for\n",
        "this decision problem? Formulate any different variables, objectives,\n",
        "and/or constraints."
      ]
    },
    {
      "cell_type": "markdown",
      "id": "d2c90680-d220-4bd8-8446-000e32cceb1e",
      "metadata": {},
      "source": [
        "#### Problem 2.2 (3 points)\n",
        "\n",
        "Implement the new optimization problem in `JuMP`."
      ]
    },
    {
      "cell_type": "markdown",
      "id": "d62a11f7-d999-4d09-aa23-f01cf696567b",
      "metadata": {},
      "source": [
        "#### Problem 2.3 (5 points)\n",
        "\n",
        "Find the optimal solution and report the optimal objective value.\n",
        "Provide a diagram showing the new waste flows."
      ]
    },
    {
      "cell_type": "markdown",
      "id": "c434f326-28e9-4db9-a274-b2fe358379c3",
      "metadata": {},
      "source": [
        "#### Problem 2.4 (5 points)\n",
        "\n",
        "Would you recommend that the cities build the new landfill? Why or why\n",
        "not? Your answer should be based on your analysis but can draw on other\n",
        "considerations as appropriate or desired."
      ]
    },
    {
      "cell_type": "markdown",
      "id": "3b590183-8c1f-45b7-8b53-a61f6e14c3d0",
      "metadata": {},
      "source": [
        "## References\n",
        "\n",
        "List any external references consulted, including classmates."
      ]
    }
  ],
  "metadata": {
    "kernelspec": {
      "display_name": "Julia 1.9.2",
      "language": "julia",
      "name": "julia-1.9"
    },
    "language_info": {
      "file_extension": ".jl",
      "mimetype": "application/julia",
      "name": "julia",
      "version": "1.9.2"
    }
  },
  "nbformat": 4,
  "nbformat_minor": 5
}
